{
  "nbformat": 4,
  "nbformat_minor": 0,
  "metadata": {
    "colab": {
      "name": "Untitled5.ipynb",
      "provenance": [],
      "authorship_tag": "ABX9TyNaDsI6pCBapl5rMsB9pDOl",
      "include_colab_link": true
    },
    "kernelspec": {
      "name": "python3",
      "display_name": "Python 3"
    },
    "language_info": {
      "name": "python"
    }
  },
  "cells": [
    {
      "cell_type": "markdown",
      "metadata": {
        "id": "view-in-github",
        "colab_type": "text"
      },
      "source": [
        "<a href=\"https://colab.research.google.com/github/kavya006/100DaysOfCode/blob/main/EmailClassifier_v1.ipynb\" target=\"_parent\"><img src=\"https://colab.research.google.com/assets/colab-badge.svg\" alt=\"Open In Colab\"/></a>"
      ]
    },
    {
      "cell_type": "code",
      "metadata": {
        "id": "9YTZoQiX2Jyz",
        "colab": {
          "base_uri": "https://localhost:8080/"
        },
        "outputId": "fe2c0314-31e0-4979-c1d3-fdbf6271fa14"
      },
      "source": [
        "import tensorflow as tf \n",
        "print(tf.__version__)"
      ],
      "execution_count": null,
      "outputs": [
        {
          "output_type": "stream",
          "text": [
            "2.5.0\n"
          ],
          "name": "stdout"
        }
      ]
    },
    {
      "cell_type": "code",
      "metadata": {
        "id": "VDxsoIBM4A6v"
      },
      "source": [
        "def setup_kaggle():\n",
        "  from google.colab import files\n",
        "\n",
        "  uploaded = files.upload()\n",
        "\n",
        "  for fn in uploaded.keys():\n",
        "    print('User uploaded file \"{name}\" with length {length} bytes'.format(\n",
        "        name=fn, length=len(uploaded[fn])))\n",
        "    \n",
        "  # Then move kaggle.json into the folder where the API expects to find it.\n",
        "  !mkdir -p ~/.kaggle/ && mv kaggle.json ~/.kaggle/ && chmod 600 ~/.kaggle/kaggle.json\n",
        "\n",
        "setup_kaggle()"
      ],
      "execution_count": 11,
      "outputs": []
    },
    {
      "cell_type": "code",
      "metadata": {
        "colab": {
          "base_uri": "https://localhost:8080/"
        },
        "id": "UZCqirDo8jO4",
        "outputId": "afb7f3b5-60ca-44fb-ccb0-d1aca365d25d"
      },
      "source": [
        "!kaggle datasets download -d uciml/sms-spam-collection-dataset\n",
        "\n",
        "!unzip sms-spam-collection-dataset.zip"
      ],
      "execution_count": 13,
      "outputs": [
        {
          "output_type": "stream",
          "text": [
            "sms-spam-collection-dataset.zip: Skipping, found more recently modified local copy (use --force to force download)\n",
            "Archive:  sms-spam-collection-dataset.zip\n",
            "  inflating: spam.csv                \n"
          ],
          "name": "stdout"
        }
      ]
    },
    {
      "cell_type": "markdown",
      "metadata": {
        "id": "01arh0tr83c9"
      },
      "source": [
        "### Email Classifier \n",
        "\n",
        "1. Following the tutorial: https://medium.com/analytics-vidhya/spam-classification-with-tensorflow-keras-7e9fb8ace263\n",
        "\n",
        "Follow Up: \n",
        "Planning to do the same with multiple other models using Tensorflow.\n",
        "1. Linear Regression\n",
        "2. Logistic Regression\n",
        "3. KNN\n",
        "4. SVM\n",
        "5. Naive Bayes \n",
        "6. Deep Networks (RNN, LSTM)\n",
        "7. Reinforcement Learning \n",
        "8. PySpark"
      ]
    },
    {
      "cell_type": "markdown",
      "metadata": {
        "id": "Qk2uETd_CO7I"
      },
      "source": [
        "#### Import the necessary libraries"
      ]
    },
    {
      "cell_type": "code",
      "metadata": {
        "id": "zsQP8BI5CPrL"
      },
      "source": [
        "import tensorflow as tf \n",
        "import numpy as np \n",
        "import matplotlib.pyplot as plt \n",
        "import seaborn as sns \n",
        "import nltk \n",
        "import pandas as pd \n",
        "%matplotlib inline"
      ],
      "execution_count": 14,
      "outputs": []
    },
    {
      "cell_type": "code",
      "metadata": {
        "colab": {
          "base_uri": "https://localhost:8080/"
        },
        "id": "XxfCiKmMDC3L",
        "outputId": "de6480c5-1d05-4afc-b621-310bae8f4bb8"
      },
      "source": [
        "df = pd.read_csv('spam.csv', encoding='ISO-8859-1')\n",
        "print(df.head(10) )\n",
        "df.info()"
      ],
      "execution_count": 24,
      "outputs": [
        {
          "output_type": "stream",
          "text": [
            "     v1  ... Unnamed: 4\n",
            "0   ham  ...        NaN\n",
            "1   ham  ...        NaN\n",
            "2  spam  ...        NaN\n",
            "3   ham  ...        NaN\n",
            "4   ham  ...        NaN\n",
            "5  spam  ...        NaN\n",
            "6   ham  ...        NaN\n",
            "7   ham  ...        NaN\n",
            "8  spam  ...        NaN\n",
            "9  spam  ...        NaN\n",
            "\n",
            "[10 rows x 5 columns]\n",
            "<class 'pandas.core.frame.DataFrame'>\n",
            "RangeIndex: 5572 entries, 0 to 5571\n",
            "Data columns (total 5 columns):\n",
            " #   Column      Non-Null Count  Dtype \n",
            "---  ------      --------------  ----- \n",
            " 0   v1          5572 non-null   object\n",
            " 1   v2          5572 non-null   object\n",
            " 2   Unnamed: 2  50 non-null     object\n",
            " 3   Unnamed: 3  12 non-null     object\n",
            " 4   Unnamed: 4  6 non-null      object\n",
            "dtypes: object(5)\n",
            "memory usage: 217.8+ KB\n"
          ],
          "name": "stdout"
        }
      ]
    },
    {
      "cell_type": "code",
      "metadata": {
        "id": "Sx3OB9qFDirt"
      },
      "source": [
        "df = df.drop(columns=['Unnamed: 2', 'Unnamed: 3', 'Unnamed: 4'])"
      ],
      "execution_count": 25,
      "outputs": []
    },
    {
      "cell_type": "code",
      "metadata": {
        "colab": {
          "base_uri": "https://localhost:8080/",
          "height": 206
        },
        "id": "pdYEioxMEPPq",
        "outputId": "91767d96-c38d-4eee-af10-dfabf1b36ae5"
      },
      "source": [
        "df.head()"
      ],
      "execution_count": 26,
      "outputs": [
        {
          "output_type": "execute_result",
          "data": {
            "text/html": [
              "<div>\n",
              "<style scoped>\n",
              "    .dataframe tbody tr th:only-of-type {\n",
              "        vertical-align: middle;\n",
              "    }\n",
              "\n",
              "    .dataframe tbody tr th {\n",
              "        vertical-align: top;\n",
              "    }\n",
              "\n",
              "    .dataframe thead th {\n",
              "        text-align: right;\n",
              "    }\n",
              "</style>\n",
              "<table border=\"1\" class=\"dataframe\">\n",
              "  <thead>\n",
              "    <tr style=\"text-align: right;\">\n",
              "      <th></th>\n",
              "      <th>v1</th>\n",
              "      <th>v2</th>\n",
              "    </tr>\n",
              "  </thead>\n",
              "  <tbody>\n",
              "    <tr>\n",
              "      <th>0</th>\n",
              "      <td>ham</td>\n",
              "      <td>Go until jurong point, crazy.. Available only ...</td>\n",
              "    </tr>\n",
              "    <tr>\n",
              "      <th>1</th>\n",
              "      <td>ham</td>\n",
              "      <td>Ok lar... Joking wif u oni...</td>\n",
              "    </tr>\n",
              "    <tr>\n",
              "      <th>2</th>\n",
              "      <td>spam</td>\n",
              "      <td>Free entry in 2 a wkly comp to win FA Cup fina...</td>\n",
              "    </tr>\n",
              "    <tr>\n",
              "      <th>3</th>\n",
              "      <td>ham</td>\n",
              "      <td>U dun say so early hor... U c already then say...</td>\n",
              "    </tr>\n",
              "    <tr>\n",
              "      <th>4</th>\n",
              "      <td>ham</td>\n",
              "      <td>Nah I don't think he goes to usf, he lives aro...</td>\n",
              "    </tr>\n",
              "  </tbody>\n",
              "</table>\n",
              "</div>"
            ],
            "text/plain": [
              "     v1                                                 v2\n",
              "0   ham  Go until jurong point, crazy.. Available only ...\n",
              "1   ham                      Ok lar... Joking wif u oni...\n",
              "2  spam  Free entry in 2 a wkly comp to win FA Cup fina...\n",
              "3   ham  U dun say so early hor... U c already then say...\n",
              "4   ham  Nah I don't think he goes to usf, he lives aro..."
            ]
          },
          "metadata": {
            "tags": []
          },
          "execution_count": 26
        }
      ]
    },
    {
      "cell_type": "code",
      "metadata": {
        "colab": {
          "base_uri": "https://localhost:8080/",
          "height": 206
        },
        "id": "uPaCms42Edtb",
        "outputId": "31acb5f2-7ee4-49ff-feaf-0a39f8c81942"
      },
      "source": [
        "df['Spam'] = pd.get_dummies(df['v1'], drop_first=True)\n",
        "df = df.drop(columns=['v1'])\n",
        "df.head()"
      ],
      "execution_count": 27,
      "outputs": [
        {
          "output_type": "execute_result",
          "data": {
            "text/html": [
              "<div>\n",
              "<style scoped>\n",
              "    .dataframe tbody tr th:only-of-type {\n",
              "        vertical-align: middle;\n",
              "    }\n",
              "\n",
              "    .dataframe tbody tr th {\n",
              "        vertical-align: top;\n",
              "    }\n",
              "\n",
              "    .dataframe thead th {\n",
              "        text-align: right;\n",
              "    }\n",
              "</style>\n",
              "<table border=\"1\" class=\"dataframe\">\n",
              "  <thead>\n",
              "    <tr style=\"text-align: right;\">\n",
              "      <th></th>\n",
              "      <th>v2</th>\n",
              "      <th>Spam</th>\n",
              "    </tr>\n",
              "  </thead>\n",
              "  <tbody>\n",
              "    <tr>\n",
              "      <th>0</th>\n",
              "      <td>Go until jurong point, crazy.. Available only ...</td>\n",
              "      <td>0</td>\n",
              "    </tr>\n",
              "    <tr>\n",
              "      <th>1</th>\n",
              "      <td>Ok lar... Joking wif u oni...</td>\n",
              "      <td>0</td>\n",
              "    </tr>\n",
              "    <tr>\n",
              "      <th>2</th>\n",
              "      <td>Free entry in 2 a wkly comp to win FA Cup fina...</td>\n",
              "      <td>1</td>\n",
              "    </tr>\n",
              "    <tr>\n",
              "      <th>3</th>\n",
              "      <td>U dun say so early hor... U c already then say...</td>\n",
              "      <td>0</td>\n",
              "    </tr>\n",
              "    <tr>\n",
              "      <th>4</th>\n",
              "      <td>Nah I don't think he goes to usf, he lives aro...</td>\n",
              "      <td>0</td>\n",
              "    </tr>\n",
              "  </tbody>\n",
              "</table>\n",
              "</div>"
            ],
            "text/plain": [
              "                                                  v2  Spam\n",
              "0  Go until jurong point, crazy.. Available only ...     0\n",
              "1                      Ok lar... Joking wif u oni...     0\n",
              "2  Free entry in 2 a wkly comp to win FA Cup fina...     1\n",
              "3  U dun say so early hor... U c already then say...     0\n",
              "4  Nah I don't think he goes to usf, he lives aro...     0"
            ]
          },
          "metadata": {
            "tags": []
          },
          "execution_count": 27
        }
      ]
    },
    {
      "cell_type": "code",
      "metadata": {
        "colab": {
          "base_uri": "https://localhost:8080/",
          "height": 298
        },
        "id": "3S44Pg9GFM1w",
        "outputId": "b551878f-e587-48fc-a39b-291653d8a8ea"
      },
      "source": [
        "sns.countplot(x='Spam', data=df)"
      ],
      "execution_count": 28,
      "outputs": [
        {
          "output_type": "execute_result",
          "data": {
            "text/plain": [
              "<matplotlib.axes._subplots.AxesSubplot at 0x7f33a9ad1710>"
            ]
          },
          "metadata": {
            "tags": []
          },
          "execution_count": 28
        },
        {
          "output_type": "display_data",
          "data": {
            "image/png": "[encoded data removed]",
            "text/plain": [
              "<Figure size 432x288 with 1 Axes>"
            ]
          },
          "metadata": {
            "tags": [],
            "needs_background": "light"
          }
        }
      ]
    },
    {
      "cell_type": "code",
      "metadata": {
        "colab": {
          "base_uri": "https://localhost:8080/",
          "height": 312
        },
        "id": "D-WlD6j4FX1f",
        "outputId": "6ed5b9fa-a25a-486d-cade-d028a86aff2a"
      },
      "source": [
        "import re \n",
        "import string \n",
        "from string import punctuation \n",
        "nltk.download('stopwords')\n",
        "from nltk.corpus import stopwords \n",
        "\n",
        "def text_processing(message): \n",
        "  Stopwords = stopwords.words('english')\n",
        "  no_punctuations = [char for char in message if char not in punctuation]\n",
        "  no_punctuations = ''.join(no_punctuations)\n",
        "  no_stopwords = [word for word in no_punctuations.split() if word.lower() not in Stopwords]\n",
        "  no_stopwords = ' '.join(no_stopwords)\n",
        "  return no_stopwords\n",
        "\n",
        "df['text'] = df['v2'].apply(text_processing)\n",
        "df.head()"
      ],
      "execution_count": 30,
      "outputs": [
        {
          "output_type": "stream",
          "text": [
            "[nltk_data] Downloading package stopwords to /root/nltk_data...\n",
            "[nltk_data]   Unzipping corpora/stopwords.zip.\n"
          ],
          "name": "stdout"
        },
        {
          "output_type": "execute_result",
          "data": {
            "text/html": [
              "<div>\n",
              "<style scoped>\n",
              "    .dataframe tbody tr th:only-of-type {\n",
              "        vertical-align: middle;\n",
              "    }\n",
              "\n",
              "    .dataframe tbody tr th {\n",
              "        vertical-align: top;\n",
              "    }\n",
              "\n",
              "    .dataframe thead th {\n",
              "        text-align: right;\n",
              "    }\n",
              "</style>\n",
              "<table border=\"1\" class=\"dataframe\">\n",
              "  <thead>\n",
              "    <tr style=\"text-align: right;\">\n",
              "      <th></th>\n",
              "      <th>v2</th>\n",
              "      <th>Spam</th>\n",
              "      <th>text</th>\n",
              "    </tr>\n",
              "  </thead>\n",
              "  <tbody>\n",
              "    <tr>\n",
              "      <th>0</th>\n",
              "      <td>Go until jurong point, crazy.. Available only ...</td>\n",
              "      <td>0</td>\n",
              "      <td>Go jurong point crazy Available bugis n great ...</td>\n",
              "    </tr>\n",
              "    <tr>\n",
              "      <th>1</th>\n",
              "      <td>Ok lar... Joking wif u oni...</td>\n",
              "      <td>0</td>\n",
              "      <td>Ok lar Joking wif u oni</td>\n",
              "    </tr>\n",
              "    <tr>\n",
              "      <th>2</th>\n",
              "      <td>Free entry in 2 a wkly comp to win FA Cup fina...</td>\n",
              "      <td>1</td>\n",
              "      <td>Free entry 2 wkly comp win FA Cup final tkts 2...</td>\n",
              "    </tr>\n",
              "    <tr>\n",
              "      <th>3</th>\n",
              "      <td>U dun say so early hor... U c already then say...</td>\n",
              "      <td>0</td>\n",
              "      <td>U dun say early hor U c already say</td>\n",
              "    </tr>\n",
              "    <tr>\n",
              "      <th>4</th>\n",
              "      <td>Nah I don't think he goes to usf, he lives aro...</td>\n",
              "      <td>0</td>\n",
              "      <td>Nah dont think goes usf lives around though</td>\n",
              "    </tr>\n",
              "  </tbody>\n",
              "</table>\n",
              "</div>"
            ],
            "text/plain": [
              "                                                  v2  ...                                               text\n",
              "0  Go until jurong point, crazy.. Available only ...  ...  Go jurong point crazy Available bugis n great ...\n",
              "1                      Ok lar... Joking wif u oni...  ...                            Ok lar Joking wif u oni\n",
              "2  Free entry in 2 a wkly comp to win FA Cup fina...  ...  Free entry 2 wkly comp win FA Cup final tkts 2...\n",
              "3  U dun say so early hor... U c already then say...  ...                U dun say early hor U c already say\n",
              "4  Nah I don't think he goes to usf, he lives aro...  ...        Nah dont think goes usf lives around though\n",
              "\n",
              "[5 rows x 3 columns]"
            ]
          },
          "metadata": {
            "tags": []
          },
          "execution_count": 30
        }
      ]
    },
    {
      "cell_type": "code",
      "metadata": {
        "id": "8b6-_hYqGhY7"
      },
      "source": [
        "from sklearn.model_selection import train_test_split\n",
        "X = df['text'] \n",
        "y = df['Spam']"
      ],
      "execution_count": 48,
      "outputs": []
    },
    {
      "cell_type": "code",
      "metadata": {
        "id": "zW5eRuXzLbmP"
      },
      "source": [
        "from sklearn.feature_extraction.text import CountVectorizer, TfidfTransformer\n",
        "from sklearn.pipeline import Pipeline\n",
        "\n",
        "X_train, X_test, y_train, y_test = train_test_split(X, y, test_size=0.20, random_state=42)\n",
        "\n",
        "prep = Pipeline(\n",
        "    [\n",
        "      ('count_vectorizer', CountVectorizer()),\n",
        "      ('frequency_encoder', TfidfTransformer())\n",
        "    ]\n",
        ")\n",
        "\n",
        "X_train = prep.fit_transform(X_train).toarray()\n",
        "X_test = prep.transform(X_test).toarray()"
      ],
      "execution_count": 53,
      "outputs": []
    },
    {
      "cell_type": "code",
      "metadata": {
        "colab": {
          "base_uri": "https://localhost:8080/"
        },
        "id": "qspTenBlNPvR",
        "outputId": "fda812d2-0839-4f61-9e71-b53745178a1c"
      },
      "source": [
        "import tensorflow as tf \n",
        "from tensorflow.keras.models import Sequential \n",
        "from tensorflow.keras.layers import Dense, Activation, Dropout\n",
        "from sklearn.metrics import classification_report, confusion_matrix\n",
        "\n",
        "def build_model_1():\n",
        "  model = Sequential(\n",
        "      [\n",
        "        Dense(units=8270, activation='relu'),\n",
        "        Dropout(0.5),\n",
        "        Dense(units=4000, activation='relu'), \n",
        "        Dropout(0.5),\n",
        "        Dense(units=1000, activation='relu'),\n",
        "        Dropout(0.5),\n",
        "        Dense(units=400, activation='relu'),\n",
        "        Dropout(0.5),\n",
        "        Dense(units=1, activation='sigmoid')\n",
        "      ]\n",
        "  )\n",
        "\n",
        "  model.compile(loss='binary_crossentropy', optimizer='adam')\n",
        "  return model \n",
        "\n",
        "from tensorflow.keras.callbacks import EarlyStopping \n",
        "early_stop = EarlyStopping(monitor='val_loss', mode='min', verbose=1, patience=10)\n",
        "\n",
        "model_1 = build_model_1()\n",
        "model_1.fit(X_train, y_train, \n",
        "            epochs=40, validation_data=(X_test, y_test),\n",
        "            verbose=1, callbacks=[early_stop])\n",
        "\n",
        "predictions = np.argmax(model_1.predict(X_test), axis=-1)\n",
        "print(confusion_matrix(y_test, predictions))\n",
        "print(classification_report(y_test, predictions))"
      ],
      "execution_count": 56,
      "outputs": [
        {
          "output_type": "stream",
          "text": [
            "Epoch 1/40\n",
            "140/140 [==============================] - 109s 767ms/step - loss: 0.1892 - val_loss: 0.0801\n",
            "Epoch 2/40\n",
            "140/140 [==============================] - 108s 770ms/step - loss: 0.0338 - val_loss: 0.1184\n",
            "Epoch 3/40\n",
            "140/140 [==============================] - 107s 765ms/step - loss: 0.0108 - val_loss: 0.1606\n",
            "Epoch 4/40\n",
            "140/140 [==============================] - 107s 765ms/step - loss: 0.0017 - val_loss: 0.1608\n",
            "Epoch 5/40\n",
            "140/140 [==============================] - 107s 764ms/step - loss: 0.0027 - val_loss: 0.2115\n",
            "Epoch 6/40\n",
            "140/140 [==============================] - 107s 765ms/step - loss: 2.1564e-05 - val_loss: 0.2747\n",
            "Epoch 7/40\n",
            "140/140 [==============================] - 107s 766ms/step - loss: 2.2005e-04 - val_loss: 0.3888\n",
            "Epoch 8/40\n",
            "140/140 [==============================] - 107s 764ms/step - loss: 3.4350e-07 - val_loss: 0.3940\n",
            "Epoch 9/40\n",
            "140/140 [==============================] - 107s 764ms/step - loss: 3.3897e-07 - val_loss: 0.3952\n",
            "Epoch 10/40\n",
            "140/140 [==============================] - 107s 763ms/step - loss: 2.1135e-07 - val_loss: 0.3963\n",
            "Epoch 11/40\n",
            "140/140 [==============================] - 107s 764ms/step - loss: 4.6077e-07 - val_loss: 0.3954\n",
            "Epoch 00011: early stopping\n"
          ],
          "name": "stdout"
        },
        {
          "output_type": "stream",
          "text": [
            "/usr/local/lib/python3.7/dist-packages/tensorflow/python/keras/engine/sequential.py:455: UserWarning: `model.predict_classes()` is deprecated and will be removed after 2021-01-01. Please use instead:* `np.argmax(model.predict(x), axis=-1)`,   if your model does multi-class classification   (e.g. if it uses a `softmax` last-layer activation).* `(model.predict(x) > 0.5).astype(\"int32\")`,   if your model does binary classification   (e.g. if it uses a `sigmoid` last-layer activation).\n",
            "  warnings.warn('`model.predict_classes()` is deprecated and '\n"
          ],
          "name": "stderr"
        },
        {
          "output_type": "stream",
          "text": [
            "[[964   1]\n",
            " [ 20 130]]\n",
            "              precision    recall  f1-score   support\n",
            "\n",
            "           0       0.98      1.00      0.99       965\n",
            "           1       0.99      0.87      0.93       150\n",
            "\n",
            "    accuracy                           0.98      1115\n",
            "   macro avg       0.99      0.93      0.96      1115\n",
            "weighted avg       0.98      0.98      0.98      1115\n",
            "\n"
          ],
          "name": "stdout"
        }
      ]
    },
    {
      "cell_type": "code",
      "metadata": {
        "colab": {
          "base_uri": "https://localhost:8080/"
        },
        "id": "GstgZcXWPHfl",
        "outputId": "b1ec74e6-fa00-4920-da47-ddde7bd8f286"
      },
      "source": [
        ""
      ],
      "execution_count": 57,
      "outputs": [
        {
          "output_type": "execute_result",
          "data": {
            "text/plain": [
              "array([0, 0, 0, ..., 0, 0, 0])"
            ]
          },
          "metadata": {
            "tags": []
          },
          "execution_count": 57
        }
      ]
    },
    {
      "cell_type": "code",
      "metadata": {
        "id": "n1YHSIuDdGiN"
      },
      "source": [
        ""
      ],
      "execution_count": null,
      "outputs": []
    }
  ]
}